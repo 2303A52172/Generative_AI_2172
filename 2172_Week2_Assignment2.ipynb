{
  "nbformat": 4,
  "nbformat_minor": 0,
  "metadata": {
    "colab": {
      "provenance": [],
      "authorship_tag": "ABX9TyPtFsD40pgFqm20UR4uFnul",
      "include_colab_link": true
    },
    "kernelspec": {
      "name": "python3",
      "display_name": "Python 3"
    },
    "language_info": {
      "name": "python"
    }
  },
  "cells": [
    {
      "cell_type": "markdown",
      "metadata": {
        "id": "view-in-github",
        "colab_type": "text"
      },
      "source": [
        "<a href=\"https://colab.research.google.com/github/2303A52172/Generative_AI_2172/blob/main/2172_Week2_Assignment2.ipynb\" target=\"_parent\"><img src=\"https://colab.research.google.com/assets/colab-badge.svg\" alt=\"Open In Colab\"/></a>"
      ]
    },
    {
      "cell_type": "markdown",
      "source": [
        "Question 1"
      ],
      "metadata": {
        "id": "jsd_mBYd4Dfn"
      }
    },
    {
      "cell_type": "markdown",
      "source": [
        "1 ponto) Develop mathematical modeling for the given case study and find solution using python.\n",
        "Consider a chocolate manufacturing company that produces only two types of chocolate i.e. A and B. Both the chocolates require Milk and Choco only.\n",
        "\n",
        "To manufacture each unit dA and B, the following quantities\n",
        "\n",
        "required:\n",
        "\n",
        "Each unit of A requires 1 unit of Milk and 3 units of Choco\n",
        "\n",
        "Each unit of B requires 1 unit of Milk and 2 units of Choco\n",
        "\n",
        "The company kitchen has a total of 5 units of Milk and 12 units of Choco. On each sale, the company makes a profit of Rs 6 per ungt A sold and Rs 5 per unit B sold.\n",
        "\n",
        "Now, the company wishes to maximize its profit. How many units of A and B should it produce respectively?"
      ],
      "metadata": {
        "id": "eUkB-Q5n4H3n"
      }
    },
    {
      "cell_type": "code",
      "source": [
        "from scipy.optimize import linprog\n",
        "\n",
        "c = [-6, -5]\n",
        "\n",
        "A_ub = [\n",
        "    [1, 1],\n",
        "    [3, 2]\n",
        "]\n",
        "b_ub = [5, 12]\n",
        "\n",
        "x_bounds = (0, None)\n",
        "y_bounds = (0, None)\n",
        "\n",
        "result = linprog(c, A_ub=A_ub, b_ub=b_ub, bounds=[x_bounds, y_bounds], method=\"highs\")\n",
        "\n",
        "if result.success:\n",
        "    print(f\"Optimal number of A to produce: {result.x[0]:.2f}\")\n",
        "    print(f\"Optimal number of B to produce: {result.x[1]:.2f}\")\n",
        "    print(f\"Maximum Profit: {-result.fun:.2f}\")\n",
        "else:\n",
        "    print(\"Optimization failed:\", result.message)"
      ],
      "metadata": {
        "colab": {
          "base_uri": "https://localhost:8080/"
        },
        "id": "RPNtAXvW4QLW",
        "outputId": "b242e06d-e9a6-484b-af96-1cc698ada469"
      },
      "execution_count": 1,
      "outputs": [
        {
          "output_type": "stream",
          "name": "stdout",
          "text": [
            "Optimal number of A to produce: 2.00\n",
            "Optimal number of B to produce: 3.00\n",
            "Maximum Profit: 27.00\n"
          ]
        }
      ]
    },
    {
      "cell_type": "markdown",
      "source": [
        "Question **2**"
      ],
      "metadata": {
        "id": "H28Ooc6v5yRL"
      }
    },
    {
      "cell_type": "markdown",
      "source": [
        "A farmer has recently acquired a 110 hectares piece of land. He has decided to grow Wheat and barley on that land. Due to the quality of the sun and the region's excellent climate, the entire production of Wheat and Barley can be sold. He wants to know how to plant each variety in the 110 hectares, given the costs, net profits and labor requirements according to the data shown below:\n",
        "\n",
        "\n",
        "  Crop         Cost (Rs/Hec)     Profit (Price: Hec)    Man-days\n",
        "  \n",
        "  Wheat             7000           50                    10      \n",
        "  Barley            2000           120                   30\n",
        "\n",
        "\n",
        "\n",
        "The farmer has a budget of Rs. 7.00,000 and availability of 1,200 man-days during the planning horizon. Find the optimal solution ar the optimal value"
      ],
      "metadata": {
        "id": "2tnGlmgd7gk7"
      }
    },
    {
      "cell_type": "code",
      "source": [
        "from scipy.optimize import linprog\n",
        "\n",
        "c = [-50, -120]\n",
        "\n",
        "A_ub = [\n",
        "    [1, 1],\n",
        "    [7000, 2000],\n",
        "    [10, 30]\n",
        "]\n",
        "b_ub = [110, 700000, 1200]\n",
        "\n",
        "x_bounds = (0, None)\n",
        "y_bounds = (0, None)\n",
        "\n",
        "result = linprog(c, A_ub=A_ub, b_ub=b_ub, bounds=[x_bounds, y_bounds], method=\"highs\")\n",
        "\n",
        "if result.success:\n",
        "    print(f\"Optimal hectares of Wheat (x1): {result.x[0]:.2f}\")\n",
        "    print(f\"Optimal hectares of Barley (x2): {result.x[1]:.2f}\")\n",
        "    print(f\"Maximum Profit: {-result.fun:.2f}\")\n",
        "else:\n",
        "    print(\"Optimization failed:\", result.message)"
      ],
      "metadata": {
        "colab": {
          "base_uri": "https://localhost:8080/"
        },
        "id": "Qk06xs2v9QM6",
        "outputId": "f4d01dbf-3caf-4ae5-b145-97c08fa07c8b"
      },
      "execution_count": 1,
      "outputs": [
        {
          "output_type": "stream",
          "name": "stdout",
          "text": [
            "Optimal hectares of Wheat (x1): 97.89\n",
            "Optimal hectares of Barley (x2): 7.37\n",
            "Maximum Profit: 5778.95\n"
          ]
        }
      ]
    }
  ]
}